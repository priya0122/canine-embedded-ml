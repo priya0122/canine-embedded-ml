{
 "cells": [
  {
   "cell_type": "code",
   "execution_count": 1,
   "metadata": {},
   "outputs": [],
   "source": [
    "import matplotlib.pyplot as plt\n",
    "import numpy as np\n",
    "import pandas as pd\n",
    "import os, glob\n",
    "\n",
    "%matplotlib inline\n",
    "%config InlineBackend.figure_format = 'retina'"
   ]
  },
  {
   "cell_type": "code",
   "execution_count": 2,
   "metadata": {},
   "outputs": [],
   "source": [
    "# data directory above `images` and `labels`\n",
    "VOL = '../../data'"
   ]
  },
  {
   "cell_type": "code",
   "execution_count": 3,
   "metadata": {},
   "outputs": [
    {
     "data": {
      "text/html": [
       "<div>\n",
       "<style scoped>\n",
       "    .dataframe tbody tr th:only-of-type {\n",
       "        vertical-align: middle;\n",
       "    }\n",
       "\n",
       "    .dataframe tbody tr th {\n",
       "        vertical-align: top;\n",
       "    }\n",
       "\n",
       "    .dataframe thead th {\n",
       "        text-align: right;\n",
       "    }\n",
       "</style>\n",
       "<table border=\"1\" class=\"dataframe\">\n",
       "  <thead>\n",
       "    <tr style=\"text-align: right;\">\n",
       "      <th></th>\n",
       "      <th>id</th>\n",
       "      <th>label</th>\n",
       "      <th>breed</th>\n",
       "    </tr>\n",
       "  </thead>\n",
       "  <tbody>\n",
       "    <tr>\n",
       "      <th>0</th>\n",
       "      <td>n02085936_8767.jpg</td>\n",
       "      <td>sitting</td>\n",
       "      <td>Maltese_dog</td>\n",
       "    </tr>\n",
       "    <tr>\n",
       "      <th>1</th>\n",
       "      <td>n02085936_20610.jpg</td>\n",
       "      <td>sitting</td>\n",
       "      <td>Maltese_dog</td>\n",
       "    </tr>\n",
       "    <tr>\n",
       "      <th>2</th>\n",
       "      <td>n02085936_16188.jpg</td>\n",
       "      <td>lying</td>\n",
       "      <td>Maltese_dog</td>\n",
       "    </tr>\n",
       "    <tr>\n",
       "      <th>3</th>\n",
       "      <td>n02085936_7865.jpg</td>\n",
       "      <td>undefined</td>\n",
       "      <td>Maltese_dog</td>\n",
       "    </tr>\n",
       "    <tr>\n",
       "      <th>4</th>\n",
       "      <td>n02085936_500.jpg</td>\n",
       "      <td>standing</td>\n",
       "      <td>Maltese_dog</td>\n",
       "    </tr>\n",
       "  </tbody>\n",
       "</table>\n",
       "</div>"
      ],
      "text/plain": [
       "                    id      label        breed\n",
       "0   n02085936_8767.jpg    sitting  Maltese_dog\n",
       "1  n02085936_20610.jpg    sitting  Maltese_dog\n",
       "2  n02085936_16188.jpg      lying  Maltese_dog\n",
       "3   n02085936_7865.jpg  undefined  Maltese_dog\n",
       "4    n02085936_500.jpg   standing  Maltese_dog"
      ]
     },
     "execution_count": 3,
     "metadata": {},
     "output_type": "execute_result"
    }
   ],
   "source": [
    "# join all csv's to a single dataframe\n",
    "labels_files = glob.glob(os.path.join(VOL, 'labels/*'))\n",
    "\n",
    "li = []\n",
    "for filename in labels_files:\n",
    "    df = pd.read_csv(filename, index_col=None, header=0)\n",
    "    df['breed'] = filename.split('-')[-1][:-4]\n",
    "    li.append(df)\n",
    "    \n",
    "df = pd.concat(li, axis=0, ignore_index=True)\n",
    "\n",
    "df.head(5)"
   ]
  },
  {
   "cell_type": "code",
   "execution_count": 4,
   "metadata": {},
   "outputs": [
    {
     "data": {
      "image/png": "[encoded data removed]",
      "text/plain": [
       "<Figure size 432x288 with 1 Axes>"
      ]
     },
     "metadata": {
      "image/png": {
       "height": 248,
       "width": 395
      },
      "needs_background": "light"
     },
     "output_type": "display_data"
    }
   ],
   "source": [
    "label, counts = np.unique(df['label'].values, return_counts=True)\n",
    "\n",
    "x = np.arange(len(label))\n",
    "\n",
    "plt.bar(x, counts, align='center', alpha=0.5)\n",
    "plt.xticks(x, label); plt.ylabel('count');"
   ]
  }
 ],
 "metadata": {
  "kernelspec": {
   "display_name": "Python 3",
   "language": "python",
   "name": "python3"
  },
  "language_info": {
   "codemirror_mode": {
    "name": "ipython",
    "version": 3
   },
   "file_extension": ".py",
   "mimetype": "text/x-python",
   "name": "python",
   "nbconvert_exporter": "python",
   "pygments_lexer": "ipython3",
   "version": "3.8.5"
  }
 },
 "nbformat": 4,
 "nbformat_minor": 4
}
